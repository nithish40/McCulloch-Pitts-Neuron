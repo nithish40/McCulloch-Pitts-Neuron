{
  "nbformat": 4,
  "nbformat_minor": 0,
  "metadata": {
    "colab": {
      "provenance": []
    },
    "kernelspec": {
      "name": "python3",
      "display_name": "Python 3"
    },
    "language_info": {
      "name": "python"
    }
  },
  "cells": [
    {
      "cell_type": "code",
      "execution_count": 9,
      "metadata": {
        "colab": {
          "base_uri": "https://localhost:8080/"
        },
        "id": "Pt8wINzknpdo",
        "outputId": "a121f8a2-5561-42fa-9c53-68ab7f631693"
      },
      "outputs": [
        {
          "output_type": "stream",
          "name": "stdout",
          "text": [
            "AND gate\n",
            "x1    x2    w1   w2   theta     O\n",
            "0     0     1     1     2       0\n",
            "0     1     1     1     2       0\n",
            "1     0     1     1     2       0\n",
            "1     1     1     1     2       1\n"
          ]
        }
      ],
      "source": [
        "from tabulate import tabulate\n",
        "#AND gate\n",
        "x1=[0,0,1,1]\n",
        "x2=[0,1,0,1]\n",
        "w1=[1,1,1,1]\n",
        "w2=[1,1,1,1]\n",
        "\n",
        "theta=2;\n",
        "print(\"AND gate\")\n",
        "print(\"x1    x2    w1   w2   theta     O\")\n",
        "for i in range(len(x1)):\n",
        "    if ( x1[i]*w1[i] + x2[i]*w2[i] ) >= theta:\n",
        "        print(x1[i],'   ',x2[i],'   ',w1[i],'   ',w2[i],'   ',theta,'     ', 1)\n",
        "    else:\n",
        "        print(x1[i],'   ',x2[i],'   ',w1[i],'   ',w2[i],'   ',theta,'     ', 0)"
      ]
    },
    {
      "cell_type": "code",
      "source": [
        "#OR gate\n",
        "x1=[0,0,1,1]\n",
        "x2=[0,1,0,1]\n",
        "w1=[1,1,1,1]\n",
        "w2=[1,1,1,1]\n",
        "\n",
        "theta=1\n",
        "print('OR gate')\n",
        "print(\"x1    x2     w1     w2    theta    O\")\n",
        "for i in range(len(x1)):\n",
        "  if(x1[i]*w1[i]+x2[i]*w2[i])>=theta:\n",
        "    print(x1[i]  ,'    ',x2[i],'    ',w1[i],'    ',w2[i],'    ',theta,'    ',1)\n",
        "  else:\n",
        "    print(x1[i]  ,'    ',x2[i],'    ',w1[i],'    ',w2[i],'    ',theta,'    ',0)"
      ],
      "metadata": {
        "colab": {
          "base_uri": "https://localhost:8080/"
        },
        "id": "UtNBHJObpSiG",
        "outputId": "4475cc77-684f-4c6a-c04a-e38e993b0840"
      },
      "execution_count": 10,
      "outputs": [
        {
          "output_type": "stream",
          "name": "stdout",
          "text": [
            "OR gate\n",
            "x1    x2     w1     w2    theta    O\n",
            "0      0      1      1      1      0\n",
            "0      1      1      1      1      1\n",
            "1      0      1      1      1      1\n",
            "1      1      1      1      1      1\n"
          ]
        }
      ]
    },
    {
      "cell_type": "code",
      "source": [
        "#NOT gate\n",
        "x=[0,1]\n",
        "w=[-1,-1]\n",
        "\n",
        "theta=0\n",
        "print(\"NOT gate\")\n",
        "print(\"x     w     theta    O\")\n",
        "for i in range(len(x)):\n",
        "  if(x[i]*w[i])>=theta:\n",
        "    print(x[i]  ,'    ',w[i],'    ',theta,'    ',1)\n",
        "  else:\n",
        "    print(x[i]  ,'    ',w[i],'    ',theta,'    ',0)"
      ],
      "metadata": {
        "colab": {
          "base_uri": "https://localhost:8080/"
        },
        "id": "Tzx-zztIq4Hk",
        "outputId": "affe4352-3184-4b91-d942-0c5c02e48f17"
      },
      "execution_count": 11,
      "outputs": [
        {
          "output_type": "stream",
          "name": "stdout",
          "text": [
            "NOT gate\n",
            "x     w     theta    O\n",
            "0      -1      0      1\n",
            "1      -1      0      0\n"
          ]
        }
      ]
    },
    {
      "cell_type": "code",
      "source": [
        "#NAND gate\n",
        "x1=[0,0,1,1]\n",
        "x2=[0,1,0,1]\n",
        "w1=[1,1,1,1]\n",
        "w2=[1,1,1,1]\n",
        "\n",
        "theta=2\n",
        "\n",
        "print(\"NAND gate\")\n",
        "print(\"x1    x2    w1   w2   theta   O\")\n",
        "for i in range(len(x1)):\n",
        "    if ( x1[i]*w1[i] + x2[i]*w2[i] ) >= theta:\n",
        "        print(x1[i],'   ',x2[i],'   ',w1[i],'   ',w2[i],'   ',theta,'   ', 0)\n",
        "    else:\n",
        "        print(x1[i],'   ',x2[i],'   ',w1[i],'   ',w2[i],'   ',theta,'   ', 1)"
      ],
      "metadata": {
        "colab": {
          "base_uri": "https://localhost:8080/"
        },
        "id": "2kfwNN49rjq7",
        "outputId": "0ec0aa10-503d-43e2-b5df-54bbcd15d7bf"
      },
      "execution_count": 12,
      "outputs": [
        {
          "output_type": "stream",
          "name": "stdout",
          "text": [
            "NAND gate\n",
            "x1    x2    w1   w2   theta   O\n",
            "0     0     1     1     2     1\n",
            "0     1     1     1     2     1\n",
            "1     0     1     1     2     1\n",
            "1     1     1     1     2     0\n"
          ]
        }
      ]
    },
    {
      "cell_type": "code",
      "source": [
        "#NOR gate\n",
        "x1=[0,0,1,1]\n",
        "x2=[0,1,0,1]\n",
        "w1=[1,1,1,1]\n",
        "w2=[1,1,1,1]\n",
        "\n",
        "theta=1\n",
        "print(\"NOR gate\")\n",
        "print(\"x1    x2     w1     w2    theta    O\")\n",
        "for i in range(len(x1)):\n",
        "  if(x1[i]*w1[i]+x2[i]*w2[i])>=theta:\n",
        "    print(x1[i]  ,'    ',x2[i],'    ',w1[i],'    ',w2[i],'    ',theta,'    ', 0)\n",
        "  else:\n",
        "    print(x1[i]  ,'    ',x2[i],'    ',w1[i],'    ',w2[i],'    ',theta,'    ', 1)"
      ],
      "metadata": {
        "colab": {
          "base_uri": "https://localhost:8080/"
        },
        "id": "cALSXfgbsu_H",
        "outputId": "b045af01-ed0f-45da-c559-269f1a611c00"
      },
      "execution_count": 13,
      "outputs": [
        {
          "output_type": "stream",
          "name": "stdout",
          "text": [
            "NOR gate\n",
            "x1    x2     w1     w2    theta    O\n",
            "0      0      1      1      1      1\n",
            "0      1      1      1      1      0\n",
            "1      0      1      1      1      0\n",
            "1      1      1      1      1      0\n"
          ]
        }
      ]
    },
    {
      "cell_type": "code",
      "source": [
        "#XOR gate\n",
        "x1 = [0, 0, 1, 1]\n",
        "x2 = [0, 1, 0, 1]\n",
        "w1 = [1, 1, 1, 1]\n",
        "w2 = [1, 1, 1, 1]\n",
        "w3 = [1, 1, 1, 1]\n",
        "w4 = [-1, -1, -1, -1]\n",
        "w5 = [-1, -1, -1, -1]\n",
        "w6 = [1, 1, 1, 1]\n",
        "t1 = [0.5,0.5,0.5,0.5]\n",
        "t2 = [-1.5,-1.5,-1.5,-1.5]\n",
        "t3 = [1.5,1.5,1.5,1.5]\n",
        "\n",
        "def XOR (a, b):\n",
        "    if a != b:\n",
        "        return 1\n",
        "    else:\n",
        "        return 0\n",
        "print(\"XOR gate\")\n",
        "print('x1    x2    w1    w2    w3     w4    w5     w6   theta1   theta2    t3     O')\n",
        "for i in range(len(x1)):\n",
        "    print(x1[i],'   ',x2[i],'   ',w1[i],'   ',w2[i],'   ',w3[i],'   ',w4[i],'   ',w5[i],'   ',w6[i],'   ',t1[i],'   ',t2[i],'   ',t3[i],'   ',XOR(x1[i],x2[i]))"
      ],
      "metadata": {
        "colab": {
          "base_uri": "https://localhost:8080/"
        },
        "id": "YftmQNykcQhr",
        "outputId": "7906c57f-f186-4765-a9ce-b4f85c548f9e"
      },
      "execution_count": 14,
      "outputs": [
        {
          "output_type": "stream",
          "name": "stdout",
          "text": [
            "XOR gate\n",
            "x1    x2    w1    w2    w3     w4    w5     w6   theta1   theta2    t3     O\n",
            "0     0     1     1     1     -1     -1     1     0.5     -1.5     1.5     0\n",
            "0     1     1     1     1     -1     -1     1     0.5     -1.5     1.5     1\n",
            "1     0     1     1     1     -1     -1     1     0.5     -1.5     1.5     1\n",
            "1     1     1     1     1     -1     -1     1     0.5     -1.5     1.5     0\n"
          ]
        }
      ]
    }
  ]
}